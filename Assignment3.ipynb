{
 "cells": [
  {
   "cell_type": "code",
   "execution_count": 6,
   "metadata": {},
   "outputs": [
    {
     "name": "stdout",
     "output_type": "stream",
     "text": [
      "Enter 1st number: 3\n",
      "Enter the operator: ^\n",
      "Enter 2nd number: 3\n",
      "27.0\n"
     ]
    }
   ],
   "source": [
    "                            #Assignment3\n",
    "#Question1\n",
    "num1=float(input(\"Enter 1st number: \"))\n",
    "op=(input(\"Enter the operator: \"))\n",
    "num2=float(input(\"Enter 2nd number: \"))\n",
    "if op==\"+\":\n",
    "    print(num1+num2)\n",
    "elif op==\"-\":\n",
    "    print(num1-num2)\n",
    "elif op==\"*\":\n",
    "    print(num1*num2)\n",
    "elif op==\"/\":\n",
    "    print(num1/num2)\n",
    "elif op==\"^\":\n",
    "    print(num1**num2)\n",
    "else:\n",
    "    print(\"INVALID OPERATOR\")\n",
    "    "
   ]
  },
  {
   "cell_type": "code",
   "execution_count": 40,
   "metadata": {},
   "outputs": [
    {
     "name": "stdout",
     "output_type": "stream",
     "text": [
      "This list contains numerical values which are:  3\n",
      "This list contains numerical values which are:  5\n"
     ]
    },
    {
     "ename": "TypeError",
     "evalue": "'>=' not supported between instances of 'str' and 'int'",
     "output_type": "error",
     "traceback": [
      "\u001b[1;31m---------------------------------------------------------------------------\u001b[0m",
      "\u001b[1;31mTypeError\u001b[0m                                 Traceback (most recent call last)",
      "\u001b[1;32m<ipython-input-40-8b38329a7a15>\u001b[0m in \u001b[0;36m<module>\u001b[1;34m\u001b[0m\n\u001b[0;32m      2\u001b[0m \u001b[0mlist1\u001b[0m\u001b[1;33m=\u001b[0m\u001b[1;33m[\u001b[0m\u001b[1;36m3\u001b[0m\u001b[1;33m,\u001b[0m\u001b[1;36m5\u001b[0m\u001b[1;33m,\u001b[0m\u001b[1;34m\"Ehsan\"\u001b[0m\u001b[1;33m,\u001b[0m\u001b[1;34m\"Ali\"\u001b[0m\u001b[1;33m]\u001b[0m\u001b[1;33m\u001b[0m\u001b[1;33m\u001b[0m\u001b[0m\n\u001b[0;32m      3\u001b[0m \u001b[1;32mfor\u001b[0m \u001b[0mx\u001b[0m \u001b[1;32min\u001b[0m \u001b[0mlist1\u001b[0m\u001b[1;33m:\u001b[0m\u001b[1;33m\u001b[0m\u001b[1;33m\u001b[0m\u001b[0m\n\u001b[1;32m----> 4\u001b[1;33m     \u001b[1;32mif\u001b[0m \u001b[0mx\u001b[0m\u001b[1;33m>=\u001b[0m\u001b[1;36m0\u001b[0m\u001b[1;33m:\u001b[0m\u001b[1;33m\u001b[0m\u001b[1;33m\u001b[0m\u001b[0m\n\u001b[0m\u001b[0;32m      5\u001b[0m         \u001b[0mprint\u001b[0m\u001b[1;33m(\u001b[0m\u001b[1;34m\"This list contains numerical values which are: \"\u001b[0m\u001b[1;33m,\u001b[0m \u001b[0mx\u001b[0m\u001b[1;33m)\u001b[0m\u001b[1;33m\u001b[0m\u001b[1;33m\u001b[0m\u001b[0m\n\u001b[0;32m      6\u001b[0m     \u001b[1;32melse\u001b[0m\u001b[1;33m:\u001b[0m\u001b[1;33m\u001b[0m\u001b[1;33m\u001b[0m\u001b[0m\n",
      "\u001b[1;31mTypeError\u001b[0m: '>=' not supported between instances of 'str' and 'int'"
     ]
    }
   ],
   "source": [
    "#Question2\n",
    "list1=[3,5,\"Ehsan\",\"Ali\"]\n",
    "for x in list1:\n",
    "    if x>=0:\n",
    "        print(\"This list contains numerical values which are: \", x)\n",
    "    else:\n",
    "        print(\"This is not a numerical value\")"
   ]
  },
  {
   "cell_type": "code",
   "execution_count": 33,
   "metadata": {},
   "outputs": [
    {
     "name": "stdout",
     "output_type": "stream",
     "text": [
      "{'Pakistan': 'Islamabad', 'China': 'Beijing', 'Australia': 'Canberra', 'France': 'Paris', 'Belgium': 'Brussels'}\n"
     ]
    }
   ],
   "source": [
    "#Question3\n",
    "capitals={'Pakistan':'Islamabad','China':'Beijing','Australia':'Canberra','France':'Paris'}\n",
    "capitals['Belgium']='Brussels'\n",
    "print(capitals)\n"
   ]
  },
  {
   "cell_type": "code",
   "execution_count": 7,
   "metadata": {},
   "outputs": [
    {
     "name": "stdout",
     "output_type": "stream",
     "text": [
      "102\n"
     ]
    }
   ],
   "source": [
    "#Question 4\n",
    "numbers={'A':34,'B':45,'C':12,'D':11}\n",
    "result=sum(numbers.values())\n",
    "print(result)"
   ]
  },
  {
   "cell_type": "code",
   "execution_count": 22,
   "metadata": {},
   "outputs": [
    {
     "name": "stdout",
     "output_type": "stream",
     "text": [
      "Duplicate exists 2\n"
     ]
    }
   ],
   "source": [
    "#Question5\n",
    "list1=[1,2,2,3,4,6,7]\n",
    "def checkduplicates(list1):\n",
    "    for i in range(0,len(list1)):\n",
    "        for j in range(i+1,len(list1)):\n",
    "            if list1[i]==list1[j]:\n",
    "                print(\"Duplicate exists\",list1[i])\n",
    "                return\n",
    "checkduplicates(list1)\n",
    "    "
   ]
  },
  {
   "cell_type": "code",
   "execution_count": 27,
   "metadata": {},
   "outputs": [
    {
     "name": "stdout",
     "output_type": "stream",
     "text": [
      "The given key do not exist in the dictionary\n"
     ]
    }
   ],
   "source": [
    "#Question6\n",
    "numbers={'A':34,'B':45,'C':12,'D':11}\n",
    "if 'B' in numbers.keys():\n",
    "    print(\"The given key already exists in the dictionary\")\n",
    "else:\n",
    "    print(\"The given key do not exist in the dictionary\")\n",
    "    "
   ]
  },
  {
   "cell_type": "code",
   "execution_count": null,
   "metadata": {},
   "outputs": [],
   "source": []
  },
  {
   "cell_type": "code",
   "execution_count": null,
   "metadata": {},
   "outputs": [],
   "source": []
  }
 ],
 "metadata": {
  "kernelspec": {
   "display_name": "Python 3",
   "language": "python",
   "name": "python3"
  },
  "language_info": {
   "codemirror_mode": {
    "name": "ipython",
    "version": 3
   },
   "file_extension": ".py",
   "mimetype": "text/x-python",
   "name": "python",
   "nbconvert_exporter": "python",
   "pygments_lexer": "ipython3",
   "version": "3.7.1"
  }
 },
 "nbformat": 4,
 "nbformat_minor": 2
}
