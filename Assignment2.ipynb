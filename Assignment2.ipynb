{
 "cells": [
  {
   "cell_type": "code",
   "execution_count": 1,
   "metadata": {},
   "outputs": [
    {
     "name": "stdout",
     "output_type": "stream",
     "text": [
      "Enter the marks of English101\n",
      "Enter the marks of Urdu78\n",
      "Enter the marks of Maths98\n",
      "Enter the marks of Physics66\n",
      "Enter the marks of Chemistry76\n",
      "Error\n"
     ]
    }
   ],
   "source": [
    "#Question1\n",
    "input_1=int(input(\"Enter the marks of English\"))\n",
    "input_2=int(input(\"Enter the marks of Urdu\"))\n",
    "input_3=int(input(\"Enter the marks of Maths\"))\n",
    "input_4=int(input(\"Enter the marks of Physics\"))\n",
    "input_5=int(input(\"Enter the marks of Chemistry\"))\n",
    "percentage= input_1 + input_2 + input_3 + input_4 + input_5\n",
    "total_marks =percentage//5   \n",
    "if input_1|input_2|input_3|input_4|input_5>100:\n",
    "    print(\"Error\")\n",
    "elif total_marks>=80:\n",
    "    print(\"A grade\")\n",
    "elif total_marks>=70:\n",
    "    print(\"B grade\")\n",
    "elif total_marks>=60:\n",
    "    print(\"C grade\")\n",
    "elif total_marks>=50:\n",
    "    print(\"D grade\")\n",
    "else:\n",
    "    print(\"Fail\")"
   ]
  },
  {
   "cell_type": "code",
   "execution_count": 9,
   "metadata": {},
   "outputs": [
    {
     "name": "stdout",
     "output_type": "stream",
     "text": [
      "Enter number31\n",
      "Odd number\n"
     ]
    }
   ],
   "source": [
    "#Question2\n",
    "input_1=int(input(\"Enter number\"))\n",
    "if input_1%2==0:\n",
    "    print(\"Even number\")\n",
    "else:\n",
    "    print(\"Odd number\")"
   ]
  },
  {
   "cell_type": "code",
   "execution_count": 23,
   "metadata": {},
   "outputs": [
    {
     "name": "stdout",
     "output_type": "stream",
     "text": [
      "The length of the list is 7\n"
     ]
    }
   ],
   "source": [
    "#Question3\n",
    "l1=[12,13,14,18,19,\"ehsan nisar\",78]\n",
    "a=len(l1)\n",
    "print(\"The length of the list is\",a)"
   ]
  },
  {
   "cell_type": "code",
   "execution_count": 6,
   "metadata": {},
   "outputs": [
    {
     "name": "stdout",
     "output_type": "stream",
     "text": [
      "154\n"
     ]
    }
   ],
   "source": [
    "#Question4\n",
    "l1=[12,13,14,18,19,78]\n",
    "num1=0\n",
    "for num in l1:\n",
    "    num1=num1+num\n",
    "    \n",
    "print(num1)\n"
   ]
  },
  {
   "cell_type": "code",
   "execution_count": 17,
   "metadata": {
    "scrolled": true
   },
   "outputs": [
    {
     "data": {
      "text/plain": [
       "78"
      ]
     },
     "execution_count": 17,
     "metadata": {},
     "output_type": "execute_result"
    }
   ],
   "source": [
    "#Question5\n",
    "l1=[12,13,14,18,19,78]\n",
    "max(l1)"
   ]
  },
  {
   "cell_type": "code",
   "execution_count": 16,
   "metadata": {},
   "outputs": [
    {
     "name": "stdout",
     "output_type": "stream",
     "text": [
      "1\n",
      "1\n",
      "2\n",
      "3\n"
     ]
    }
   ],
   "source": [
    "#Question6\n",
    "a = [1, 1, 2, 3, 5, 8, 13, 21, 34, 55, 89]\n",
    "for x in a:\n",
    "    if x<5:\n",
    "        print(x)"
   ]
  },
  {
   "cell_type": "code",
   "execution_count": null,
   "metadata": {},
   "outputs": [],
   "source": []
  }
 ],
 "metadata": {
  "kernelspec": {
   "display_name": "Python 3",
   "language": "python",
   "name": "python3"
  },
  "language_info": {
   "codemirror_mode": {
    "name": "ipython",
    "version": 3
   },
   "file_extension": ".py",
   "mimetype": "text/x-python",
   "name": "python",
   "nbconvert_exporter": "python",
   "pygments_lexer": "ipython3",
   "version": "3.7.1"
  }
 },
 "nbformat": 4,
 "nbformat_minor": 2
}
