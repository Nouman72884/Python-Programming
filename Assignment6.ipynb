{
 "cells": [
  {
   "cell_type": "code",
   "execution_count": 2,
   "metadata": {},
   "outputs": [
    {
     "data": {
      "text/plain": [
       "'Object Oriented Programming Language: Object-oriented programming(OOP) refers to a type of computer programming in which programmers define the data type of a data structure, and also the types of operations (functions) that can be applied to the data structure.'"
      ]
     },
     "execution_count": 2,
     "metadata": {},
     "output_type": "execute_result"
    }
   ],
   "source": [
    "                                #Assignment6\n",
    "       #Question1\n",
    "'''Object Oriented Programming Language: Object-oriented programming(OOP) refers to a type of computer programming in which programmers define the data type of a data structure, and also the types of operations (functions) that can be applied to the data structure.'''"
   ]
  },
  {
   "cell_type": "code",
   "execution_count": 3,
   "metadata": {},
   "outputs": [
    {
     "data": {
      "text/plain": [
       "' 1. Modularity for easier troubleshooting  \\n    2. Reuse of code through inheritance\\n    3. Flexibility through polymorphism\\n    4. Effective problem solving'"
      ]
     },
     "execution_count": 3,
     "metadata": {},
     "output_type": "execute_result"
    }
   ],
   "source": [
    "      #Question2\n",
    "\"\"\" 1. Modularity for easier troubleshooting  \n",
    "    2. Reuse of code through inheritance\n",
    "    3. Flexibility through polymorphism\n",
    "    4. Effective problem solving\"\"\"\n"
   ]
  },
  {
   "cell_type": "code",
   "execution_count": 6,
   "metadata": {},
   "outputs": [
    {
     "data": {
      "text/plain": [
       "'Method is called by its name, but it is associated to an object (dependent).\\n   A method is implicitly passed the object on which it is invoked.\\n   It may or may not return any data.\\n   A method can operate on the data (instance variables) that is contained by the corresponding class\\n   A function is block of code that is also called by its name. (independent)\\n   The function can have different parameters or may not have any at all. If any data (parameters) are passed, they are passed explicitly.\\n   It may or may not return any data.\\n   Function does not deal with Class and its instance concept.'"
      ]
     },
     "execution_count": 6,
     "metadata": {},
     "output_type": "execute_result"
    }
   ],
   "source": [
    "    #Question3\n",
    "'''Method is called by its name, but it is associated to an object (dependent).\n",
    "   A method is implicitly passed the object on which it is invoked.\n",
    "   It may or may not return any data.\n",
    "   A method can operate on the data (instance variables) that is contained by the corresponding class\n",
    "   A function is block of code that is also called by its name. (independent)\n",
    "   The function can have different parameters or may not have any at all. If any data (parameters) are passed, they are passed explicitly.\n",
    "   It may or may not return any data.\n",
    "   Function does not deal with Class and its instance concept.'''"
   ]
  },
  {
   "cell_type": "code",
   "execution_count": 45,
   "metadata": {},
   "outputs": [
    {
     "data": {
      "text/plain": [
       "' Class: Classes are essentially a template to create your objects.\\n      Objects get their variables and functions from classes.\\n  Object:Object is simply a collection of data (variables) and methods (functions) that act on those data.\\n  Attribute:There are two types of attributes in Python.\\n              1. Instance Attribute\\n              2. Class Attribute\\n          An instance attribute is a Python variable belonging to one, and only one, object. \\n          A class attribute is a Python variable that belongs to a class rather than a particular object.\\n          It is shared between all the objects of this class and it is defined outside the constructor function\\n  Behavior: A behavior is how a feature operates within a well-defined scenario of inputs, actions, and outcomes.\\n          Products can exhibit countless behaviors, such as:\\n              1.Submitting forms on a website\\n              2.Searching for desired results\\n              3.Saving a document\\n              4.Making REST API calls\\n              5.Running command-line interface commands'"
      ]
     },
     "execution_count": 45,
     "metadata": {},
     "output_type": "execute_result"
    }
   ],
   "source": [
    "  #Question4\n",
    "''' Class: Classes are essentially a template to create your objects.\n",
    "        Objects get their variables and functions from classes.\n",
    "    Object:Object is simply a collection of data (variables) and methods (functions) that act on those data.\n",
    "    Attribute:There are two types of attributes in Python.\n",
    "                1. Instance Attribute\n",
    "                2. Class Attribute\n",
    "            An instance attribute is a Python variable belonging to one, and only one, object. \n",
    "            A class attribute is a Python variable that belongs to a class rather than a particular object.\n",
    "            It is shared between all the objects of this class and it is defined outside the constructor function\n",
    "    Behavior: A behavior is how a feature operates within a well-defined scenario of inputs, actions, and outcomes.\n",
    "            Products can exhibit countless behaviors, such as:\n",
    "                1.Submitting forms on a website\n",
    "                2.Searching for desired results\n",
    "                3.Saving a document\n",
    "                4.Making REST API calls\n",
    "                5.Running command-line interface commands'''\n"
   ]
  },
  {
   "cell_type": "code",
   "execution_count": 41,
   "metadata": {},
   "outputs": [
    {
     "name": "stdout",
     "output_type": "stream",
     "text": [
      "The rent of a Car is 1000\n",
      "The price of a Car is 18 LAC\n",
      "The duration of installment is 5 Years\n",
      "The amount of monthly installment is 43333.333333333336\n"
     ]
    }
   ],
   "source": [
    "    #Question5\n",
    "class Car():\n",
    "    \n",
    "    def __init__(self,model,color,name,price,car_type):\n",
    "        self.model=model\n",
    "        self.color=color\n",
    "        self.name=name\n",
    "        self.price=price\n",
    "        self.car_type=car_type\n",
    "    def rent_a_car(self):\n",
    "        if self.name==\"Corolla\":\n",
    "            rent=1500\n",
    "            return rent\n",
    "        elif self.name==\"Mehran\":\n",
    "            rent=1000\n",
    "            return rent\n",
    "        else:\n",
    "            rent=1500\n",
    "            return rent\n",
    "        \n",
    "    def sell_a_car(self):\n",
    "        if self.name==\"Corolla\" and self.model==1999:\n",
    "            price=\"12 LAC\"\n",
    "            return price\n",
    "        elif self.name==\"Corolla\" and self.model==2006:\n",
    "            price=\"18 LAC\"\n",
    "            return price\n",
    "        elif self.name==\"Corolla\" and self.model==2018:\n",
    "            price=\"32 LAC\"\n",
    "            return price\n",
    "        elif self.name==\"Mehran\" and self.model==2003:\n",
    "            price=\"4 LAC\"\n",
    "            return price\n",
    "        else:\n",
    "            price=\"26LAC\"\n",
    "            return price\n",
    "\n",
    "        \n",
    "    def sell_a_car_on_monthly_installments(self):\n",
    "        if self.name==\"Corolla\" and self.model==1999:\n",
    "            duration =\"5 Years\"\n",
    "            monthly_amount=1200000/60\n",
    "            return (duration,monthly_amount)\n",
    "        elif self.name==\"Corolla\" and self.model==2006:\n",
    "            duration =\"5 Years\"\n",
    "            monthly_amount=1800000/60\n",
    "            return (duration,monthly_amount)\n",
    "        elif self.name==\"Corolla\" and self.model==2018:\n",
    "            duration =\"5 Years\"\n",
    "            monthly_amount=3200000/60\n",
    "            return (duration,monthly_amount)\n",
    "        elif self.name==\"Mehran\" and self.model==2003:\n",
    "            duration =\"5 Years\"\n",
    "            monthly_amount=400000/60\n",
    "            return (duration,monthly_amount)\n",
    "        else:\n",
    "            duration =\"5 Years\"\n",
    "            monthly_amount=2600000/60\n",
    "            return (duration,monthly_amount)   \n",
    "        \n",
    "        \n",
    "p1=Car(1999,\"White\",\"Corolla\",\"12 LAC\",\"MANUAL\")\n",
    "p2=Car(2006,\"Silver\",\"Corolla\",\"18 LAC\",\"AUTOMATIC\")\n",
    "p3=Car(2003,\"White\",\"Mehran\",\"4 LAC\",\"MANUAL\")\n",
    "p4=Car(2018,\"White\",\"Corolla\",\"32 LAC\",\"AUTOMATIC\")\n",
    "p5=Car(2019,\"Blue\",\"Swift\",\"26 LAC\",\"AUTOMATIC\")\n",
    "\n",
    "print(\"The rent of a Car is \"+str(p3.rent_a_car()))\n",
    "print(\"The price of a Car is \"+ str(p2.sell_a_car()))\n",
    "installment=p5.sell_a_car_on_monthly_installments()\n",
    "print(\"The duration of installment is \"+ str(installment[0])+\"\\n\"+\"The amount of monthly installment is \"+str(installment[1]))\n",
    "        "
   ]
  },
  {
   "cell_type": "code",
   "execution_count": null,
   "metadata": {},
   "outputs": [],
   "source": []
  }
 ],
 "metadata": {
  "kernelspec": {
   "display_name": "Python 3",
   "language": "python",
   "name": "python3"
  },
  "language_info": {
   "codemirror_mode": {
    "name": "ipython",
    "version": 3
   },
   "file_extension": ".py",
   "mimetype": "text/x-python",
   "name": "python",
   "nbconvert_exporter": "python",
   "pygments_lexer": "ipython3",
   "version": "3.7.1"
  }
 },
 "nbformat": 4,
 "nbformat_minor": 2
}
