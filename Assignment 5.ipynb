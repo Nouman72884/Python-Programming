{
 "cells": [
  {
   "cell_type": "code",
   "execution_count": 5,
   "metadata": {},
   "outputs": [
    {
     "name": "stdout",
     "output_type": "stream",
     "text": [
      "Enter the number 4\n",
      "The factorial of 4 is 24\n"
     ]
    }
   ],
   "source": [
    "                           # Assignment 5\n",
    "#Question1\n",
    "\n",
    "def factorial(n):\n",
    "    f = 1\n",
    "    for x in range (1,n+1):\n",
    "        f = f*x\n",
    "    return f\n",
    "\n",
    "\n",
    "num=int(input(\"Enter the number \"))\n",
    "f1=factorial(num)\n",
    "print(\"The factorial of \"+str(num)+\" is \"+ str(f1))"
   ]
  },
  {
   "cell_type": "code",
   "execution_count": 4,
   "metadata": {},
   "outputs": [
    {
     "name": "stdout",
     "output_type": "stream",
     "text": [
      "Enter the string Good Job\n",
      "There are 2 upper case letters and 5 lower case letters in Good Job\n"
     ]
    }
   ],
   "source": [
    "#Question 2\n",
    "\n",
    "def letter_counter(word):\n",
    "    dic={'u_case':0,'l_case':0}\n",
    "    for x in word:\n",
    "        if x.isupper():\n",
    "            dic['u_case']+=1\n",
    "        elif x.islower():\n",
    "            dic['l_case']+=1\n",
    "        else:\n",
    "            pass\n",
    "    return dic\n",
    "\n",
    "name = input(\"Enter the string:  \")\n",
    "word=letter_counter(name)\n",
    "print(\"There are \"+str(word[\"u_case\"])+\" \"+\"upper case letters and \"+str(word[\"l_case\"])+\" \"+ \"lower case letters in \" + name)"
   ]
  },
  {
   "cell_type": "code",
   "execution_count": 8,
   "metadata": {},
   "outputs": [
    {
     "name": "stdout",
     "output_type": "stream",
     "text": [
      "The even numbers in the given list are [12, 76, 12]\n"
     ]
    }
   ],
   "source": [
    "#Question 3 \n",
    "\n",
    "list1=[12,45,76,81,23,12 ]\n",
    "\n",
    "def even_numbers(num):\n",
    "    list2=[]\n",
    "    for x in num:\n",
    "        if x% 2 == 0:\n",
    "            list2.append(x)\n",
    "            \n",
    "    return list2\n",
    "\n",
    "even= even_numbers(list1)\n",
    "print(\"The even numbers in the given list are\"+ \" \"+ str(even))\n"
   ]
  },
  {
   "cell_type": "code",
   "execution_count": 108,
   "metadata": {},
   "outputs": [
    {
     "name": "stdout",
     "output_type": "stream",
     "text": [
      "Enter the string: mam\n",
      "It is a Palindrome\n"
     ]
    }
   ],
   "source": [
    "#Question 4\n",
    "\n",
    "def check_string(str1):\n",
    "    str2=str1[::-1]\n",
    "    if str1==str2:\n",
    "        print(\"It is a Palindrome\")\n",
    "    else:\n",
    "        print(\"It is not a Palindrome\")\n",
    "        \n",
    "string=input(\"Enter the string: \")   \n",
    "check_string(string)"
   ]
  },
  {
   "cell_type": "code",
   "execution_count": 103,
   "metadata": {},
   "outputs": [
    {
     "name": "stdout",
     "output_type": "stream",
     "text": [
      " Enter the number: 26\n",
      " NOt a Prime number\n"
     ]
    }
   ],
   "source": [
    "#Question 5\n",
    "\n",
    "def prime_number(num):\n",
    "    if num == 0 or num==1 or num==2:\n",
    "        if num == 0 or num == 1:\n",
    "            print(\"Not a Prime Number\")\n",
    "             \n",
    "            \n",
    "        elif num == 2:\n",
    "            print(\"Prime Number\")\n",
    "    else:\n",
    "        \n",
    "        for x in range(2,num):\n",
    "            if num%x==0:\n",
    "                print(\" NOt a Prime number\")\n",
    "                break\n",
    "                \n",
    "            \n",
    "        else:\n",
    "            print(\"Prime Number\")\n",
    "                \n",
    "            \n",
    "    \n",
    "    \n",
    "num1 = int(input(\" Enter the number: \"))            \n",
    "prime_number(num1)"
   ]
  },
  {
   "cell_type": "code",
   "execution_count": 13,
   "metadata": {},
   "outputs": [
    {
     "name": "stdout",
     "output_type": "stream",
     "text": [
      " Enter the customer name:  Ehsan\n",
      " You  have bought the following items: \n",
      "item1 chocolates\n",
      "item2 biscuits\n",
      "item3 Lays\n",
      "item4 Cold Drink\n",
      "item5 sweets\n",
      "item6 Oil\n"
     ]
    }
   ],
   "source": [
    "#Question6\n",
    "\n",
    "def shopping(**shopping_items):\n",
    "    print(\" You  have bought the following items: \")\n",
    "    for x,y in shopping_items.items():\n",
    "        print(x,y)\n",
    "    \n",
    "    \n",
    "    \n",
    "    \n",
    "\n",
    "name=input(\" Enter the customer name:  \")\n",
    "shopping(item1=\"chocolates\",item2=\"biscuits\",item3=\"Lays\",item4=\"Cold Drink\",item5=\"sweets\",item6=\"Oil\")"
   ]
  },
  {
   "cell_type": "code",
   "execution_count": null,
   "metadata": {},
   "outputs": [],
   "source": []
  },
  {
   "cell_type": "code",
   "execution_count": null,
   "metadata": {},
   "outputs": [],
   "source": []
  }
 ],
 "metadata": {
  "kernelspec": {
   "display_name": "Python 3",
   "language": "python",
   "name": "python3"
  },
  "language_info": {
   "codemirror_mode": {
    "name": "ipython",
    "version": 3
   },
   "file_extension": ".py",
   "mimetype": "text/x-python",
   "name": "python",
   "nbconvert_exporter": "python",
   "pygments_lexer": "ipython3",
   "version": "3.7.1"
  }
 },
 "nbformat": 4,
 "nbformat_minor": 2
}
