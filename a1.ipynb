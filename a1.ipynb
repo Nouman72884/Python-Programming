{
 "cells": [
  {
   "cell_type": "code",
   "execution_count": 16,
   "metadata": {},
   "outputs": [
    {
     "name": "stdout",
     "output_type": "stream",
     "text": [
      "Twinkle, twinkle, little star,\n",
      "       How I wonder what you are!\n",
      "               Up above the world so high,\n",
      "               Like a diamond in the sky.\n",
      "Twinkle, twinkle, little star,\n",
      "       How I wonder what you are\n"
     ]
    }
   ],
   "source": [
    "#Question1\n",
    "print(\"Twinkle, twinkle, little star,\\n\" \"       How I wonder what you are!\\n\" \"               Up above the world so high,\\n\" \"               Like a diamond in the sky.\\n\" \"Twinkle, twinkle, little star,\\n\" \"       How I wonder what you are\")"
   ]
  },
  {
   "cell_type": "code",
   "execution_count": 18,
   "metadata": {},
   "outputs": [
    {
     "data": {
      "text/plain": [
       "'3.7.1'"
      ]
     },
     "execution_count": 18,
     "metadata": {},
     "output_type": "execute_result"
    }
   ],
   "source": [
    "#Question#2\n",
    "import platform\n",
    "platform.python_version()"
   ]
  },
  {
   "cell_type": "code",
   "execution_count": 19,
   "metadata": {},
   "outputs": [
    {
     "name": "stdout",
     "output_type": "stream",
     "text": [
      "2019-11-01 04:04:24.189357\n"
     ]
    }
   ],
   "source": [
    "#Question#3\n",
    "from datetime import datetime\n",
    "current_time=datetime.now()\n",
    "print(current_time)"
   ]
  },
  {
   "cell_type": "code",
   "execution_count": 22,
   "metadata": {},
   "outputs": [
    {
     "name": "stdout",
     "output_type": "stream",
     "text": [
      "Enter radius of a circle 5\n",
      "The area of a circle is:  78.5\n"
     ]
    }
   ],
   "source": [
    "#Question#4\n",
    "r=int(input(\"Enter radius of a circle \"))\n",
    "Area=3.14*(r**2)\n",
    "print(\"The area of a circle is: \",Area)"
   ]
  },
  {
   "cell_type": "code",
   "execution_count": 25,
   "metadata": {},
   "outputs": [
    {
     "name": "stdout",
     "output_type": "stream",
     "text": [
      "Enter your First Nameehsan\n",
      "Enter your Last Namenisar\n",
      "Your name in reverse order is:  nisar   ehsan\n"
     ]
    }
   ],
   "source": [
    "#Question5\n",
    "f_name= (input(\"Enter your First Name\"))\n",
    "l_name= (input(\"Enter your Last Name\"))\n",
    "print(\"Your name in reverse order is: \",l_name,\" \",f_name)\n"
   ]
  },
  {
   "cell_type": "code",
   "execution_count": 28,
   "metadata": {},
   "outputs": [
    {
     "name": "stdout",
     "output_type": "stream",
     "text": [
      "Enter 1st number 2\n",
      "Enter 2nd number 1\n",
      "The answer is:  3\n"
     ]
    }
   ],
   "source": [
    "#Question6\n",
    "num1=int(input(\"Enter 1st number \"))\n",
    "num2=int(input(\"Enter 2nd number \"))\n",
    "out=num1+num2\n",
    "print(\"The answer is: \",out)"
   ]
  },
  {
   "cell_type": "code",
   "execution_count": null,
   "metadata": {},
   "outputs": [],
   "source": []
  }
 ],
 "metadata": {
  "kernelspec": {
   "display_name": "Python 3",
   "language": "python",
   "name": "python3"
  },
  "language_info": {
   "codemirror_mode": {
    "name": "ipython",
    "version": 3
   },
   "file_extension": ".py",
   "mimetype": "text/x-python",
   "name": "python",
   "nbconvert_exporter": "python",
   "pygments_lexer": "ipython3",
   "version": "3.7.1"
  }
 },
 "nbformat": 4,
 "nbformat_minor": 2
}
