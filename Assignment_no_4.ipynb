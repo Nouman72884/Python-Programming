{
 "cells": [
  {
   "cell_type": "code",
   "execution_count": 1,
   "metadata": {},
   "outputs": [
    {
     "name": "stdout",
     "output_type": "stream",
     "text": [
      "{'first_name': 'Usman', 'last_name': 'Nisar', 'age': 19, 'city': 'Islamabad'}\n",
      "{'first_name': 'Usman', 'last_name': 'Nisar', 'age': 19, 'city': 'Islamabad', 'Qualification': 'High Academic Level'}\n",
      "{'first_name': 'Usman', 'last_name': 'Nisar', 'age': 19, 'city': 'Islamabad'}\n"
     ]
    }
   ],
   "source": [
    "#Question1:\n",
    "person= { \"first_name\":\"Usman\",\"last_name\":\"Nisar\",\"age\":19,\"city\":\"Islamabad\"}\n",
    "print(person)\n",
    "person[\"Qualification\"] = \"High Academic Level\"\n",
    "print(person)\n",
    "del person[\"Qualification\"]\n",
    "print(person)"
   ]
  },
  {
   "cell_type": "code",
   "execution_count": 2,
   "metadata": {},
   "outputs": [
    {
     "name": "stdout",
     "output_type": "stream",
     "text": [
      "{'Karachi': {'country': 'Pakistan', 'Population': '3 crore', 'Fact': 'City of Lights'}, 'Lahore': {'country': 'Pakistan', 'Population': '2 crore', 'Fact': 'Zinda Dil City'}, 'Islamabad': {'country': 'Pakistan', 'Population': '20 lakh', 'Fact': 'Capital'}}\n"
     ]
    }
   ],
   "source": [
    "#Question2:\n",
    "cities = {\"Karachi\":{\"country\":\"Pakistan\",\"Population\":\"3 crore\",\"Fact\":\"City of Lights\"},\"Lahore\":{\"country\":\"Pakistan\",\"Population\":\"2 crore\",\"Fact\":\"Zinda Dil City\"},\"Islamabad\":{\"country\":\"Pakistan\",\"Population\":\"20 lakh\",\"Fact\":\"Capital\"}}\n",
    "print(cities)\n"
   ]
  },
  {
   "cell_type": "code",
   "execution_count": 3,
   "metadata": {},
   "outputs": [
    {
     "name": "stdout",
     "output_type": "stream",
     "text": [
      "How many tickets do you want:5\n",
      "Please tell me your age:2\n",
      "Your ticket is free\n",
      "Please tell me your age:4\n",
      "Your ticket fee is 10$\n",
      "Please tell me your age:5\n",
      "Your ticket fee is 10$\n",
      "Please tell me your age:9\n",
      "Your ticket fee is 10$\n",
      "Please tell me your age:15\n",
      "Your ticket fee is 15$\n"
     ]
    }
   ],
   "source": [
    "#Question3:\n",
    "ages=int(input(\"How many tickets do you want:\"))\n",
    "for x in range(0,ages) :\n",
    "    age=int(input(\"Please tell me your age:\"))\n",
    "    if age>0 and age<3:\n",
    "        print(\"Your ticket is free\")\n",
    "    elif age>=3 and age<=12:\n",
    "        print(\"Your ticket fee is 10$\")\n",
    "    elif age>12:\n",
    "        print(\"Your ticket fee is 15$\")\n",
    "    else:\n",
    "        print(\"You have entered an invalid age\")\n",
    "        "
   ]
  },
  {
   "cell_type": "code",
   "execution_count": 7,
   "metadata": {},
   "outputs": [
    {
     "name": "stdout",
     "output_type": "stream",
     "text": [
      "One of my favorite book is Alice in Wonderland\n"
     ]
    }
   ],
   "source": [
    "#Question4:\n",
    "\n",
    "def favorite_book(title):\n",
    "    print(\"One of my favorite book is\",title)\n",
    "\n",
    "favorite_book(\"Alice in Wonderland\")    \n",
    "\n",
    "    \n",
    "\n",
    "    \n",
    "\n",
    "       "
   ]
  },
  {
   "cell_type": "code",
   "execution_count": 6,
   "metadata": {},
   "outputs": [
    {
     "name": "stdout",
     "output_type": "stream",
     "text": [
      " Welcome to Guess the number game\n",
      "Guess the correct number between 1 and 30:\n",
      "Write your guess: 25\n",
      "The number you have written is higher than the required number\n",
      "Try again\n",
      "Write your guess: 223\n",
      "The number you have written is higher than the required number\n",
      "Try again\n",
      "Write your guess: 2\n",
      "Better Luck Next time\n",
      "You lose\n",
      "The correct number is: 20\n"
     ]
    }
   ],
   "source": [
    "#Question5:\n",
    "import random\n",
    "a=(random.randint(1,30))\n",
    "data= \" Welcome to Guess the number game\"+\"\\n\"+\"Guess the correct number between 1 and 30:\"\n",
    "print(data)\n",
    "for x in range(0,3):\n",
    "    b=int(input(\"Write your guess: \"))\n",
    "    if b == a:\n",
    "        print(\"You win\")\n",
    "        break\n",
    "    elif x==2:\n",
    "        print(\"Better Luck Next time\")\n",
    "        print(\"You lose\"+\"\\n\"\"The correct number is: \"+str(a))\n",
    "    elif b>a:\n",
    "         print(\"The number you have written is higher than the required number\"+\"\\n\"+\"Try again\")\n",
    "    elif b<a:\n",
    "         print(\"The number you have written is less than the required number\"+\"\\n\"+\"Try again\")\n",
    "    "
   ]
  },
  {
   "cell_type": "code",
   "execution_count": null,
   "metadata": {},
   "outputs": [],
   "source": []
  }
 ],
 "metadata": {
  "kernelspec": {
   "display_name": "Python 3",
   "language": "python",
   "name": "python3"
  },
  "language_info": {
   "codemirror_mode": {
    "name": "ipython",
    "version": 3
   },
   "file_extension": ".py",
   "mimetype": "text/x-python",
   "name": "python",
   "nbconvert_exporter": "python",
   "pygments_lexer": "ipython3",
   "version": "3.7.1"
  }
 },
 "nbformat": 4,
 "nbformat_minor": 2
}
